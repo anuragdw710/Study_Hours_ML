{
  "nbformat": 4,
  "nbformat_minor": 0,
  "metadata": {
    "colab": {
      "name": "Untitled0.ipynb",
      "provenance": [],
      "authorship_tag": "ABX9TyO/iL61Zj///squgrz8Cm8z",
      "include_colab_link": true
    },
    "kernelspec": {
      "name": "python3",
      "display_name": "Python 3"
    },
    "language_info": {
      "name": "python"
    }
  },
  "cells": [
    {
      "cell_type": "markdown",
      "metadata": {
        "id": "view-in-github",
        "colab_type": "text"
      },
      "source": [
        "<a href=\"https://colab.research.google.com/github/anuragdw710/Study_Hours_ML/blob/main/Code.ipynb\" target=\"_parent\"><img src=\"https://colab.research.google.com/assets/colab-badge.svg\" alt=\"Open In Colab\"/></a>"
      ]
    },
    {
      "cell_type": "markdown",
      "metadata": {
        "id": "e2eCC-b2VZwb"
      },
      "source": [
        "# **Prediction using Supervised ML**  \n",
        "\n",
        "---\n",
        "\n",
        "\n",
        "**Predict the percentage of an student based on the no. of study hours.**"
      ]
    },
    {
      "cell_type": "markdown",
      "metadata": {
        "id": "zNcx2atosGKj"
      },
      "source": [
        "\n",
        "\n",
        "> ![aa.jfif](data:image/jpeg;base64,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)\n",
        "\n"
      ]
    },
    {
      "cell_type": "markdown",
      "metadata": {
        "id": "Dwiw-JUPvf7k"
      },
      "source": [
        "\n",
        "\n",
        "> Import Python Library\n",
        "\n"
      ]
    },
    {
      "cell_type": "code",
      "metadata": {
        "colab": {
          "base_uri": "https://localhost:8080/"
        },
        "id": "n1wj-pS9UmBm",
        "outputId": "957a3d26-9c31-4e8a-ac88-ab243502b36c"
      },
      "source": [
        "import pandas as pd\n",
        "import numpy as np  \n",
        "import matplotlib.pyplot as plt  \n",
        "%matplotlib inline\n",
        "import seaborn as sns\n",
        "print(\"Setup Complete\")"
      ],
      "execution_count": 58,
      "outputs": [
        {
          "output_type": "stream",
          "text": [
            "Setup Complete\n"
          ],
          "name": "stdout"
        }
      ]
    },
    {
      "cell_type": "markdown",
      "metadata": {
        "id": "KTYYIqEUVepB"
      },
      "source": [
        "\n",
        "\n",
        "> Load The Data\n",
        "\n"
      ]
    },
    {
      "cell_type": "code",
      "metadata": {
        "colab": {
          "base_uri": "https://localhost:8080/",
          "height": 221
        },
        "id": "Yprgn7btVf_a",
        "outputId": "4b1d1ff6-8375-4642-ccd9-7bc6b07ed470"
      },
      "source": [
        "file_path=\"https://raw.githubusercontent.com/AdiPersonalWorks/Random/master/student_scores%20-%20student_scores.csv\"\n",
        "study_data=pd.read_csv(file_path)\n",
        "print(\"Data imported successfully\")\n",
        "study_data.head(5)\n",
        "#study_data.columns"
      ],
      "execution_count": 59,
      "outputs": [
        {
          "output_type": "stream",
          "text": [
            "Data imported successfully\n"
          ],
          "name": "stdout"
        },
        {
          "output_type": "execute_result",
          "data": {
            "text/html": [
              "<div>\n",
              "<style scoped>\n",
              "    .dataframe tbody tr th:only-of-type {\n",
              "        vertical-align: middle;\n",
              "    }\n",
              "\n",
              "    .dataframe tbody tr th {\n",
              "        vertical-align: top;\n",
              "    }\n",
              "\n",
              "    .dataframe thead th {\n",
              "        text-align: right;\n",
              "    }\n",
              "</style>\n",
              "<table border=\"1\" class=\"dataframe\">\n",
              "  <thead>\n",
              "    <tr style=\"text-align: right;\">\n",
              "      <th></th>\n",
              "      <th>Hours</th>\n",
              "      <th>Scores</th>\n",
              "    </tr>\n",
              "  </thead>\n",
              "  <tbody>\n",
              "    <tr>\n",
              "      <th>0</th>\n",
              "      <td>2.5</td>\n",
              "      <td>21</td>\n",
              "    </tr>\n",
              "    <tr>\n",
              "      <th>1</th>\n",
              "      <td>5.1</td>\n",
              "      <td>47</td>\n",
              "    </tr>\n",
              "    <tr>\n",
              "      <th>2</th>\n",
              "      <td>3.2</td>\n",
              "      <td>27</td>\n",
              "    </tr>\n",
              "    <tr>\n",
              "      <th>3</th>\n",
              "      <td>8.5</td>\n",
              "      <td>75</td>\n",
              "    </tr>\n",
              "    <tr>\n",
              "      <th>4</th>\n",
              "      <td>3.5</td>\n",
              "      <td>30</td>\n",
              "    </tr>\n",
              "  </tbody>\n",
              "</table>\n",
              "</div>"
            ],
            "text/plain": [
              "   Hours  Scores\n",
              "0    2.5      21\n",
              "1    5.1      47\n",
              "2    3.2      27\n",
              "3    8.5      75\n",
              "4    3.5      30"
            ]
          },
          "metadata": {
            "tags": []
          },
          "execution_count": 59
        }
      ]
    },
    {
      "cell_type": "markdown",
      "metadata": {
        "id": "gzB0ZTgTWKt-"
      },
      "source": [
        "\n",
        "\n",
        "> Explore Data\n",
        "\n",
        ">Clean Data\n",
        "\n",
        "> Decide Target Variable\n",
        "\n",
        "\n",
        "\n",
        "\n",
        "\n"
      ]
    },
    {
      "cell_type": "code",
      "metadata": {
        "colab": {
          "base_uri": "https://localhost:8080/",
          "height": 350
        },
        "id": "Bn5ogI0VWLeQ",
        "outputId": "9913b5c1-b1fc-4c9f-b371-73ce35715f9f"
      },
      "source": [
        "y=study_data['Scores']\n",
        "X=study_data['Hours']\n",
        "#X\n",
        "sns.scatterplot(study_data['Hours'],study_data['Scores'] )"
      ],
      "execution_count": 60,
      "outputs": [
        {
          "output_type": "stream",
          "text": [
            "/usr/local/lib/python3.7/dist-packages/seaborn/_decorators.py:43: FutureWarning: Pass the following variables as keyword args: x, y. From version 0.12, the only valid positional argument will be `data`, and passing other arguments without an explicit keyword will result in an error or misinterpretation.\n",
            "  FutureWarning\n"
          ],
          "name": "stderr"
        },
        {
          "output_type": "execute_result",
          "data": {
            "text/plain": [
              "<matplotlib.axes._subplots.AxesSubplot at 0x7f28ebe6e6d0>"
            ]
          },
          "metadata": {
            "tags": []
          },
          "execution_count": 60
        },
        {
          "output_type": "display_data",
          "data": {
            "image/png": "[encoded data removed]",
            "text/plain": [
              "<Figure size 432x288 with 1 Axes>"
            ]
          },
          "metadata": {
            "tags": [],
            "needs_background": "light"
          }
        }
      ]
    },
    {
      "cell_type": "markdown",
      "metadata": {
        "id": "IjVLkDEOZrR_"
      },
      "source": [
        "\n",
        "\n",
        "> Split Data For Train And Teast Model\n",
        "\n"
      ]
    },
    {
      "cell_type": "code",
      "metadata": {
        "colab": {
          "base_uri": "https://localhost:8080/"
        },
        "id": "xriE4J0KZr-E",
        "outputId": "12ba47dc-f1ec-4180-e2ac-ed471ad44976"
      },
      "source": [
        "from sklearn.model_selection import train_test_split  \n",
        "X_train, X_test, y_train, y_test = train_test_split(X, y,random_state=0) \n",
        "print('done')"
      ],
      "execution_count": 61,
      "outputs": [
        {
          "output_type": "stream",
          "text": [
            "done\n"
          ],
          "name": "stdout"
        }
      ]
    },
    {
      "cell_type": "markdown",
      "metadata": {
        "id": "UBs4h9wna-8U"
      },
      "source": [
        "\n",
        "\n",
        "> Train Model By Linear Regression\n",
        "\n"
      ]
    },
    {
      "cell_type": "code",
      "metadata": {
        "colab": {
          "base_uri": "https://localhost:8080/",
          "height": 400
        },
        "id": "fp9LXpUEa_iT",
        "outputId": "ef03f10f-bcf6-4411-b99c-fcb3bfccc153"
      },
      "source": [
        "from sklearn.linear_model import LinearRegression  \n",
        "model = LinearRegression()  \n",
        "model.fit(X_train.values.reshape(-1, 1),y_train)\n",
        "sns.lmplot(x='Scores',y='Hours',data=study_data)\n",
        "print('done')"
      ],
      "execution_count": 77,
      "outputs": [
        {
          "output_type": "stream",
          "text": [
            "done\n"
          ],
          "name": "stdout"
        },
        {
          "output_type": "display_data",
          "data": {
            "image/png": "[encoded data removed]",
            "text/plain": [
              "<Figure size 360x360 with 1 Axes>"
            ]
          },
          "metadata": {
            "tags": [],
            "needs_background": "light"
          }
        }
      ]
    },
    {
      "cell_type": "markdown",
      "metadata": {
        "id": "RwYq43VFo-La"
      },
      "source": [
        "\n",
        "\n",
        "> Predicted Score\n",
        "\n"
      ]
    },
    {
      "cell_type": "code",
      "metadata": {
        "colab": {
          "base_uri": "https://localhost:8080/"
        },
        "id": "UbYHNxuZo-0A",
        "outputId": "73c34f12-3cbd-4015-8168-66a70deef0bd"
      },
      "source": [
        "y_predict = model.predict(X_test.values.reshape(-1, 1))\n",
        "#y_test\n",
        "#y_predict\n",
        "model.predict([[9.25]])"
      ],
      "execution_count": 78,
      "outputs": [
        {
          "output_type": "execute_result",
          "data": {
            "text/plain": [
              "array([93.89272889])"
            ]
          },
          "metadata": {
            "tags": []
          },
          "execution_count": 78
        }
      ]
    },
    {
      "cell_type": "markdown",
      "metadata": {
        "id": "SWBvXs7QqMjH"
      },
      "source": [
        "\n",
        "\n",
        "> Model Validation\n",
        "\n"
      ]
    },
    {
      "cell_type": "code",
      "metadata": {
        "colab": {
          "base_uri": "https://localhost:8080/"
        },
        "id": "-oE4O_GSqNPm",
        "outputId": "d974e4f4-b3fe-434e-ef5e-e59e36dc146a"
      },
      "source": [
        "from sklearn import metrics  \n",
        "print('Mean Absolute Error:', \n",
        "      metrics.mean_absolute_error(y_test, y_predict)) "
      ],
      "execution_count": 76,
      "outputs": [
        {
          "output_type": "stream",
          "text": [
            "Mean Absolute Error: 4.130879918502482\n"
          ],
          "name": "stdout"
        }
      ]
    }
  ]
}